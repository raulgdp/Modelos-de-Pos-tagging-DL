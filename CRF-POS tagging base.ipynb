{
 "cells": [
  {
   "cell_type": "code",
   "execution_count": 1,
   "id": "comic-beauty",
   "metadata": {},
   "outputs": [],
   "source": [
    "%matplotlib inline\n",
    "import matplotlib.pyplot as plt\n",
    "plt.style.use('ggplot')"
   ]
  },
  {
   "cell_type": "code",
   "execution_count": 2,
   "id": "detected-miracle",
   "metadata": {},
   "outputs": [],
   "source": [
    "from itertools import chain\n",
    "\n",
    "import nltk\n",
    "import sklearn\n",
    "import scipy.stats\n",
    "from sklearn.metrics import make_scorer\n",
    "from sklearn.model_selection import cross_val_score\n",
    "from sklearn.model_selection import RandomizedSearchCV\n",
    "\n",
    "import sklearn_crfsuite\n",
    "from sklearn_crfsuite import scorers\n",
    "from sklearn_crfsuite import metrics"
   ]
  },
  {
   "cell_type": "code",
   "execution_count": 3,
   "id": "presidential-departure",
   "metadata": {},
   "outputs": [
    {
     "name": "stdout",
     "output_type": "stream",
     "text": [
      "CPU times: user 1.03 s, sys: 38.9 ms, total: 1.07 s\n",
      "Wall time: 1.07 s\n"
     ]
    }
   ],
   "source": [
    "%%time\n",
    "train_sents = list(nltk.corpus.conll2002.iob_sents('esp.train'))\n",
    "test_sents = list(nltk.corpus.conll2002.iob_sents('esp.testb'))"
   ]
  },
  {
   "cell_type": "code",
   "execution_count": 4,
   "id": "answering-memory",
   "metadata": {},
   "outputs": [],
   "source": [
    "def sent2labels(sent):\n",
    "    return [postag for token, postag, label in sent]\n",
    "\n",
    "def sent2tokens(sent):\n",
    "    return [token for token, postag, label in sent]"
   ]
  },
  {
   "cell_type": "code",
   "execution_count": 5,
   "id": "korean-cedar",
   "metadata": {},
   "outputs": [
    {
     "name": "stdout",
     "output_type": "stream",
     "text": [
      "NP\n",
      "Melbourne\n"
     ]
    }
   ],
   "source": [
    "#print(sent2features(train_sents[0])[0])\n",
    "print(sent2labels(train_sents[0])[0])\n",
    "print(sent2tokens(train_sents[0])[0])"
   ]
  },
  {
   "cell_type": "code",
   "execution_count": 6,
   "id": "wireless-burke",
   "metadata": {},
   "outputs": [
    {
     "data": {
      "text/plain": [
       "[('Melbourne', 'NP', 'B-LOC'),\n",
       " ('(', 'Fpa', 'O'),\n",
       " ('Australia', 'NP', 'B-LOC'),\n",
       " (')', 'Fpt', 'O'),\n",
       " (',', 'Fc', 'O'),\n",
       " ('25', 'Z', 'O'),\n",
       " ('may', 'NC', 'O'),\n",
       " ('(', 'Fpa', 'O'),\n",
       " ('EFE', 'NC', 'B-ORG'),\n",
       " (')', 'Fpt', 'O'),\n",
       " ('.', 'Fp', 'O')]"
      ]
     },
     "execution_count": 6,
     "metadata": {},
     "output_type": "execute_result"
    }
   ],
   "source": [
    "train_sents[0]"
   ]
  },
  {
   "cell_type": "code",
   "execution_count": 7,
   "id": "southern-petersburg",
   "metadata": {},
   "outputs": [
    {
     "name": "stdout",
     "output_type": "stream",
     "text": [
      "CPU times: user 36.5 ms, sys: 0 ns, total: 36.5 ms\n",
      "Wall time: 36.1 ms\n"
     ]
    }
   ],
   "source": [
    "%%time\n",
    "X_train = [sent2tokens(s) for s in train_sents]\n",
    "y_train = [sent2labels(s) for s in train_sents]\n",
    "\n",
    "X_test = [sent2tokens(s) for s in test_sents]\n",
    "y_test = [sent2labels(s) for s in test_sents]"
   ]
  },
  {
   "cell_type": "code",
   "execution_count": 8,
   "id": "included-bones",
   "metadata": {},
   "outputs": [
    {
     "name": "stdout",
     "output_type": "stream",
     "text": [
      "CPU times: user 2min 36s, sys: 44.6 ms, total: 2min 36s\n",
      "Wall time: 2min 36s\n"
     ]
    },
    {
     "name": "stderr",
     "output_type": "stream",
     "text": [
      "/usr/local/lib/python3.6/dist-packages/sklearn/base.py:213: FutureWarning: From version 0.24, get_params will raise an AttributeError if a parameter cannot be retrieved as an instance attribute. Previously it would return None.\n",
      "  FutureWarning)\n"
     ]
    },
    {
     "data": {
      "text/plain": [
       "CRF(algorithm='lbfgs', all_possible_transitions=True, c1=0.1, c2=0.1,\n",
       "    keep_tempfiles=None, max_iterations=100)"
      ]
     },
     "execution_count": 8,
     "metadata": {},
     "output_type": "execute_result"
    }
   ],
   "source": [
    "%%time\n",
    "crf = sklearn_crfsuite.CRF(\n",
    "    algorithm='lbfgs', \n",
    "    c1=0.1, \n",
    "    c2=0.1, \n",
    "    max_iterations=100, \n",
    "    all_possible_transitions=True\n",
    ")\n",
    "crf.fit(X_train, y_train)"
   ]
  },
  {
   "cell_type": "code",
   "execution_count": 9,
   "id": "apart-ending",
   "metadata": {},
   "outputs": [
    {
     "name": "stdout",
     "output_type": "stream",
     "text": [
      "[('el', 'PP'), ('hombre', 'VAI'), ('bajo', 'VMP'), ('canta', 'SP'), ('bajo', 'NC'), ('el', 'DA'), ('Puente', 'NC'), ('bajo', 'VMI'), ('tocando', 'VMG'), ('el', 'DA'), ('bajo', 'NC'), ('en', 'SP'), ('la', 'DA'), ('escalera', 'NC'), ('baja', 'AQ')]\n"
     ]
    }
   ],
   "source": [
    "sentence = ['el', 'hombre', 'bajo','canta', 'bajo', 'el', 'Puente', 'bajo', 'tocando','el','bajo','en','la','escalera', \n",
    "            'baja']\n",
    "\n",
    "          \n",
    "def pos_tag(sentence):\n",
    "    \n",
    "    return list(zip(sentence, crf.predict([sentence])[0]))\n",
    " \n",
    "print(pos_tag(sentence))  # [('I', 'PRP'), ('am', 'VBP'), ('Bob', 'NNP'), ('!', '.')]"
   ]
  },
  {
   "cell_type": "code",
   "execution_count": 10,
   "id": "pharmaceutical-corps",
   "metadata": {},
   "outputs": [],
   "source": [
    "labels = list(crf.classes_)"
   ]
  },
  {
   "cell_type": "code",
   "execution_count": 11,
   "id": "thorough-butterfly",
   "metadata": {},
   "outputs": [
    {
     "name": "stderr",
     "output_type": "stream",
     "text": [
      "/usr/local/lib/python3.6/dist-packages/sklearn/metrics/_classification.py:1465: UndefinedMetricWarning: F-score is ill-defined and being set to 0.0 in labels with no true nor predicted samples. Use `zero_division` parameter to control this behavior.\n",
      "  average, \"true nor predicted\", 'F-score is', len(true_sum)\n"
     ]
    },
    {
     "data": {
      "text/plain": [
       "0.8222041210771038"
      ]
     },
     "execution_count": 11,
     "metadata": {},
     "output_type": "execute_result"
    }
   ],
   "source": [
    "y_pred = crf.predict(X_test)\n",
    "metrics.flat_f1_score(y_test, y_pred, \n",
    "                      average='weighted', labels=labels)"
   ]
  },
  {
   "cell_type": "code",
   "execution_count": 12,
   "id": "sporting-receipt",
   "metadata": {},
   "outputs": [
    {
     "name": "stderr",
     "output_type": "stream",
     "text": [
      "/usr/local/lib/python3.6/dist-packages/sklearn/utils/validation.py:70: FutureWarning: Pass labels=['I', 'Y', 'Z', 'P0', 'DA', 'VAI', 'VAM', 'VAN', 'VAP', 'VAS', 'CC', 'NC', 'DD', 'PD', 'RG', 'DI', 'PI', 'VMG', 'VMI', 'VMM', 'VMN', 'VMP', 'VMS', 'DN', 'PN', 'RN', 'AO', 'DP', 'NP', 'PP', 'SP', 'AQ', 'PR', 'CS', 'VSG', 'VSI', 'VSM', 'VSN', 'VSP', 'VSS', 'DT', 'PT', 'PX', 'Faa', 'Fat', 'Fc', 'Fd', 'Fe', 'Fg', 'Fh', 'Fia', 'Fit', 'Fp', 'Fpa', 'Fpt', 'Fs', 'Ft', 'Fx', 'Fz'] as keyword args. From version 0.25 passing these as positional arguments will result in an error\n",
      "  FutureWarning)\n",
      "/usr/local/lib/python3.6/dist-packages/sklearn/metrics/_classification.py:1221: UndefinedMetricWarning: Precision and F-score are ill-defined and being set to 0.0 in labels with no predicted samples. Use `zero_division` parameter to control this behavior.\n",
      "  _warn_prf(average, modifier, msg_start, len(result))\n",
      "/usr/local/lib/python3.6/dist-packages/sklearn/metrics/_classification.py:1221: UndefinedMetricWarning: Recall and F-score are ill-defined and being set to 0.0 in labels with no true samples. Use `zero_division` parameter to control this behavior.\n",
      "  _warn_prf(average, modifier, msg_start, len(result))\n"
     ]
    },
    {
     "name": "stdout",
     "output_type": "stream",
     "text": [
      "              precision    recall  f1-score   support\n",
      "\n",
      "           I      0.750     0.130     0.222        23\n",
      "           Y      0.000     0.000     0.000         3\n",
      "           Z      0.998     0.991     0.994      1080\n",
      "          P0      0.856     0.953     0.902       532\n",
      "          DA      0.926     0.978     0.952      5034\n",
      "         VAI      0.923     0.963     0.943       299\n",
      "         VAM      0.000     0.000     0.000         0\n",
      "         VAN      0.842     0.842     0.842        19\n",
      "         VAP      0.000     0.000     0.000         1\n",
      "         VAS      0.826     0.731     0.776        26\n",
      "          CC      0.950     0.928     0.939      1198\n",
      "          NC      0.755     0.851     0.800     12347\n",
      "          DD      0.879     0.920     0.899       364\n",
      "          PD      0.750     0.469     0.577        32\n",
      "          RG      0.731     0.517     0.606      1037\n",
      "          DI      0.765     0.802     0.783      1090\n",
      "          PI      0.784     0.357     0.491       112\n",
      "         VMG      0.554     0.383     0.453        81\n",
      "         VMI      0.679     0.624     0.650      2815\n",
      "         VMM      0.353     0.051     0.089       118\n",
      "         VMN      0.672     0.527     0.591       939\n",
      "         VMP      0.784     0.645     0.708       462\n",
      "         VMS      0.182     0.008     0.015       258\n",
      "          DN      0.622     0.502     0.556       249\n",
      "          PN      0.882     0.806     0.843       186\n",
      "          RN      0.837     0.854     0.846       199\n",
      "          AO      0.759     0.559     0.644       152\n",
      "          DP      0.925     0.911     0.918       394\n",
      "          NP      0.710     0.586     0.642       292\n",
      "          PP      0.622     0.317     0.419       218\n",
      "          SP      0.916     0.952     0.934      8741\n",
      "          AQ      0.579     0.506     0.540      4228\n",
      "          PR      0.826     0.901     0.862      1034\n",
      "          CS      0.842     0.662     0.742       960\n",
      "         VSG      0.000     0.000     0.000         3\n",
      "         VSI      0.630     0.443     0.521       327\n",
      "         VSM      0.000     0.000     0.000         0\n",
      "         VSN      0.971     0.791     0.872        43\n",
      "         VSP      0.974     1.000     0.987        37\n",
      "         VSS      0.500     0.190     0.276        21\n",
      "          DT      0.750     0.600     0.667         5\n",
      "          PT      0.750     0.600     0.667        10\n",
      "          PX      0.000     0.000     0.000         0\n",
      "         Faa      0.000     0.000     0.000         0\n",
      "         Fat      0.000     0.000     0.000         0\n",
      "          Fc      0.999     1.000     1.000      2868\n",
      "          Fd      1.000     1.000     1.000        39\n",
      "          Fe      1.000     1.000     1.000       980\n",
      "          Fg      0.994     1.000     0.997       338\n",
      "          Fh      1.000     0.684     0.813        19\n",
      "         Fia      1.000     1.000     1.000         3\n",
      "         Fit      1.000     1.000     1.000         3\n",
      "          Fp      0.976     0.999     0.987      1364\n",
      "         Fpa      1.000     1.000     1.000       454\n",
      "         Fpt      1.000     1.000     1.000       455\n",
      "          Fs      0.000     0.000     0.000         1\n",
      "          Ft      0.000     0.000     0.000         0\n",
      "          Fx      1.000     1.000     1.000        23\n",
      "          Fz      1.000     0.882     0.938        17\n",
      "\n",
      "   micro avg      0.830     0.830     0.830     51533\n",
      "   macro avg      0.678     0.600     0.625     51533\n",
      "weighted avg      0.821     0.830     0.822     51533\n",
      "\n"
     ]
    }
   ],
   "source": [
    "# group B and I results\n",
    "sorted_labels = sorted(\n",
    "    labels, \n",
    "    key=lambda name: (name[1:], name[0])\n",
    ")\n",
    "print(metrics.flat_classification_report(\n",
    "    y_test, y_pred, labels=sorted_labels, digits=3\n",
    "))"
   ]
  },
  {
   "cell_type": "code",
   "execution_count": null,
   "id": "athletic-catch",
   "metadata": {},
   "outputs": [],
   "source": []
  }
 ],
 "metadata": {
  "kernelspec": {
   "display_name": "Python 3",
   "language": "python",
   "name": "python3"
  },
  "language_info": {
   "codemirror_mode": {
    "name": "ipython",
    "version": 3
   },
   "file_extension": ".py",
   "mimetype": "text/x-python",
   "name": "python",
   "nbconvert_exporter": "python",
   "pygments_lexer": "ipython3",
   "version": "3.6.9"
  }
 },
 "nbformat": 4,
 "nbformat_minor": 5
}
