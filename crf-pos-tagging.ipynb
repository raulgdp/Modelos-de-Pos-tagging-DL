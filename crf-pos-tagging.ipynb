{
 "cells": [
  {
   "cell_type": "code",
   "execution_count": 3,
   "metadata": {
    "scrolled": false
   },
   "outputs": [
    {
     "name": "stderr",
     "output_type": "stream",
     "text": [
      "[nltk_data] Downloading package conll2002 to\n",
      "[nltk_data]     /Users/raulernestogutierrezdepinerezreyes/nltk_data...\n",
      "[nltk_data]   Package conll2002 is already up-to-date!\n",
      "[nltk_data] Downloading package cess_esp to\n",
      "[nltk_data]     /Users/raulernestogutierrezdepinerezreyes/nltk_data...\n",
      "[nltk_data]   Package cess_esp is already up-to-date!\n"
     ]
    },
    {
     "name": "stdout",
     "output_type": "stream",
     "text": [
      "[('El', 'da0ms0'), ('grupo', 'ncms000'), ('estatal', 'aq0cs0'), ('Electricité_de_France', 'np00000'), ('-Fpa-', 'Fpa'), ('EDF', 'np00000'), ('-Fpt-', 'Fpt'), ('anunció', 'vmis3s0'), ('hoy', 'rg'), (',', 'Fc'), ('jueves', 'W'), (',', 'Fc'), ('la', 'da0fs0'), ('compra', 'ncfs000'), ('del', 'spcms'), ('51_por_ciento', 'Zp'), ('de', 'sps00'), ('la', 'da0fs0'), ('empresa', 'ncfs000'), ('mexicana', 'aq0fs0'), ('Electricidad_Águila_de_Altamira', 'np00000'), ('-Fpa-', 'Fpa'), ('EAA', 'np00000'), ('-Fpt-', 'Fpt'), (',', 'Fc'), ('creada', 'aq0fsp'), ('por', 'sps00'), ('el', 'da0ms0'), ('japonés', 'aq0ms0'), ('Mitsubishi_Corporation', 'np00000'), ('para', 'sps00'), ('poner_en_marcha', 'vmn0000'), ('una', 'di0fs0'), ('central', 'ncfs000'), ('de', 'sps00'), ('gas', 'ncms000'), ('de', 'sps00'), ('495', 'Z'), ('megavatios', 'ncmp000'), ('.', 'Fp')]\n",
      "Tagged sentences:  35651\n",
      "Tagged words: 678377\n",
      "Tagged sentences:  6030\n",
      "Tagged words: 192685\n"
     ]
    }
   ],
   "source": [
    "import nltk\n",
    "from nltk.corpus import cess_esp\n",
    "nltk.download('conll2002')\n",
    "nltk.download('cess_esp')\n",
    " \n",
    "tagged_sentences = nltk.corpus.conll2002.tagged_sents()\n",
    "tagged_sentences1 = cess_esp.tagged_sents()\n",
    " \n",
    "print(tagged_sentences1[0])\n",
    "print(\"Tagged sentences: \", len(tagged_sentences))\n",
    "print(\"Tagged words:\", len(nltk.corpus.conll2002.tagged_words()))\n",
    "\n",
    "print(\"Tagged sentences: \", len(tagged_sentences1))\n",
    "print(\"Tagged words:\", len(cess_esp.tagged_words()))\n",
    " "
   ]
  },
  {
   "cell_type": "code",
   "execution_count": 4,
   "metadata": {},
   "outputs": [],
   "source": [
    "from itertools import chain\n",
    "\n",
    "import nltk\n",
    "import sklearn\n",
    "import scipy.stats\n",
    "from sklearn.metrics import make_scorer\n",
    "import sklearn_crfsuite\n",
    "from sklearn_crfsuite import scorers\n",
    "from sklearn_crfsuite import metrics"
   ]
  },
  {
   "cell_type": "code",
   "execution_count": 5,
   "metadata": {},
   "outputs": [],
   "source": [
    "def features(sentence, index):\n",
    "    \"\"\" sentence: [w1, w2, ...], index: the index of the word \"\"\"\n",
    "    return {\n",
    "        'word': sentence[index],\n",
    "        'is_first': index == 0,\n",
    "        'is_last': index == len(sentence) - 1,\n",
    "        'is_capitalized': sentence[index][0].upper() == sentence[index][0],\n",
    "        'is_all_caps': sentence[index].upper() == sentence[index],\n",
    "        'is_all_lower': sentence[index].lower() == sentence[index],\n",
    "        'prefix-1': sentence[index][0],\n",
    "        'prefix-2': sentence[index][:2],\n",
    "        'prefix-3': sentence[index][:3],\n",
    "        'suffix-1': sentence[index][-1],\n",
    "        'suffix-2': sentence[index][-2:],\n",
    "        'suffix-3': sentence[index][-3:],\n",
    "        'prev_word': '' if index == 0 else sentence[index - 1],\n",
    "        'next_word': '' if index == len(sentence) - 1 else sentence[index + 1],\n",
    "        'has_hyphen': '-' in sentence[index],\n",
    "        'is_numeric': sentence[index].isdigit(),\n",
    "        'capitals_inside': sentence[index][1:].lower() != sentence[index][1:]\n",
    "    }\n",
    " "
   ]
  },
  {
   "cell_type": "code",
   "execution_count": 6,
   "metadata": {
    "scrolled": false
   },
   "outputs": [
    {
     "name": "stdout",
     "output_type": "stream",
     "text": [
      "4522\n",
      "1508\n",
      "[{'word': 'El', 'is_first': True, 'is_last': False, 'is_capitalized': True, 'is_all_caps': False, 'is_all_lower': False, 'prefix-1': 'E', 'prefix-2': 'El', 'prefix-3': 'El', 'suffix-1': 'l', 'suffix-2': 'El', 'suffix-3': 'El', 'prev_word': '', 'next_word': 'grupo', 'has_hyphen': False, 'is_numeric': False, 'capitals_inside': False}, {'word': 'grupo', 'is_first': False, 'is_last': False, 'is_capitalized': False, 'is_all_caps': False, 'is_all_lower': True, 'prefix-1': 'g', 'prefix-2': 'gr', 'prefix-3': 'gru', 'suffix-1': 'o', 'suffix-2': 'po', 'suffix-3': 'upo', 'prev_word': 'El', 'next_word': 'estatal', 'has_hyphen': False, 'is_numeric': False, 'capitals_inside': False}, {'word': 'estatal', 'is_first': False, 'is_last': False, 'is_capitalized': False, 'is_all_caps': False, 'is_all_lower': True, 'prefix-1': 'e', 'prefix-2': 'es', 'prefix-3': 'est', 'suffix-1': 'l', 'suffix-2': 'al', 'suffix-3': 'tal', 'prev_word': 'grupo', 'next_word': 'Electricité_de_France', 'has_hyphen': False, 'is_numeric': False, 'capitals_inside': False}, {'word': 'Electricité_de_France', 'is_first': False, 'is_last': False, 'is_capitalized': True, 'is_all_caps': False, 'is_all_lower': False, 'prefix-1': 'E', 'prefix-2': 'El', 'prefix-3': 'Ele', 'suffix-1': 'e', 'suffix-2': 'ce', 'suffix-3': 'nce', 'prev_word': 'estatal', 'next_word': '-Fpa-', 'has_hyphen': False, 'is_numeric': False, 'capitals_inside': True}, {'word': '-Fpa-', 'is_first': False, 'is_last': False, 'is_capitalized': True, 'is_all_caps': False, 'is_all_lower': False, 'prefix-1': '-', 'prefix-2': '-F', 'prefix-3': '-Fp', 'suffix-1': '-', 'suffix-2': 'a-', 'suffix-3': 'pa-', 'prev_word': 'Electricité_de_France', 'next_word': 'EDF', 'has_hyphen': True, 'is_numeric': False, 'capitals_inside': True}, {'word': 'EDF', 'is_first': False, 'is_last': False, 'is_capitalized': True, 'is_all_caps': True, 'is_all_lower': False, 'prefix-1': 'E', 'prefix-2': 'ED', 'prefix-3': 'EDF', 'suffix-1': 'F', 'suffix-2': 'DF', 'suffix-3': 'EDF', 'prev_word': '-Fpa-', 'next_word': '-Fpt-', 'has_hyphen': False, 'is_numeric': False, 'capitals_inside': True}, {'word': '-Fpt-', 'is_first': False, 'is_last': False, 'is_capitalized': True, 'is_all_caps': False, 'is_all_lower': False, 'prefix-1': '-', 'prefix-2': '-F', 'prefix-3': '-Fp', 'suffix-1': '-', 'suffix-2': 't-', 'suffix-3': 'pt-', 'prev_word': 'EDF', 'next_word': 'anunció', 'has_hyphen': True, 'is_numeric': False, 'capitals_inside': True}, {'word': 'anunció', 'is_first': False, 'is_last': False, 'is_capitalized': False, 'is_all_caps': False, 'is_all_lower': True, 'prefix-1': 'a', 'prefix-2': 'an', 'prefix-3': 'anu', 'suffix-1': 'ó', 'suffix-2': 'ió', 'suffix-3': 'ció', 'prev_word': '-Fpt-', 'next_word': 'hoy', 'has_hyphen': False, 'is_numeric': False, 'capitals_inside': False}, {'word': 'hoy', 'is_first': False, 'is_last': False, 'is_capitalized': False, 'is_all_caps': False, 'is_all_lower': True, 'prefix-1': 'h', 'prefix-2': 'ho', 'prefix-3': 'hoy', 'suffix-1': 'y', 'suffix-2': 'oy', 'suffix-3': 'hoy', 'prev_word': 'anunció', 'next_word': ',', 'has_hyphen': False, 'is_numeric': False, 'capitals_inside': False}, {'word': ',', 'is_first': False, 'is_last': False, 'is_capitalized': True, 'is_all_caps': True, 'is_all_lower': True, 'prefix-1': ',', 'prefix-2': ',', 'prefix-3': ',', 'suffix-1': ',', 'suffix-2': ',', 'suffix-3': ',', 'prev_word': 'hoy', 'next_word': 'jueves', 'has_hyphen': False, 'is_numeric': False, 'capitals_inside': False}, {'word': 'jueves', 'is_first': False, 'is_last': False, 'is_capitalized': False, 'is_all_caps': False, 'is_all_lower': True, 'prefix-1': 'j', 'prefix-2': 'ju', 'prefix-3': 'jue', 'suffix-1': 's', 'suffix-2': 'es', 'suffix-3': 'ves', 'prev_word': ',', 'next_word': ',', 'has_hyphen': False, 'is_numeric': False, 'capitals_inside': False}, {'word': ',', 'is_first': False, 'is_last': False, 'is_capitalized': True, 'is_all_caps': True, 'is_all_lower': True, 'prefix-1': ',', 'prefix-2': ',', 'prefix-3': ',', 'suffix-1': ',', 'suffix-2': ',', 'suffix-3': ',', 'prev_word': 'jueves', 'next_word': 'la', 'has_hyphen': False, 'is_numeric': False, 'capitals_inside': False}, {'word': 'la', 'is_first': False, 'is_last': False, 'is_capitalized': False, 'is_all_caps': False, 'is_all_lower': True, 'prefix-1': 'l', 'prefix-2': 'la', 'prefix-3': 'la', 'suffix-1': 'a', 'suffix-2': 'la', 'suffix-3': 'la', 'prev_word': ',', 'next_word': 'compra', 'has_hyphen': False, 'is_numeric': False, 'capitals_inside': False}, {'word': 'compra', 'is_first': False, 'is_last': False, 'is_capitalized': False, 'is_all_caps': False, 'is_all_lower': True, 'prefix-1': 'c', 'prefix-2': 'co', 'prefix-3': 'com', 'suffix-1': 'a', 'suffix-2': 'ra', 'suffix-3': 'pra', 'prev_word': 'la', 'next_word': 'del', 'has_hyphen': False, 'is_numeric': False, 'capitals_inside': False}, {'word': 'del', 'is_first': False, 'is_last': False, 'is_capitalized': False, 'is_all_caps': False, 'is_all_lower': True, 'prefix-1': 'd', 'prefix-2': 'de', 'prefix-3': 'del', 'suffix-1': 'l', 'suffix-2': 'el', 'suffix-3': 'del', 'prev_word': 'compra', 'next_word': '51_por_ciento', 'has_hyphen': False, 'is_numeric': False, 'capitals_inside': False}, {'word': '51_por_ciento', 'is_first': False, 'is_last': False, 'is_capitalized': True, 'is_all_caps': False, 'is_all_lower': True, 'prefix-1': '5', 'prefix-2': '51', 'prefix-3': '51_', 'suffix-1': 'o', 'suffix-2': 'to', 'suffix-3': 'nto', 'prev_word': 'del', 'next_word': 'de', 'has_hyphen': False, 'is_numeric': False, 'capitals_inside': False}, {'word': 'de', 'is_first': False, 'is_last': False, 'is_capitalized': False, 'is_all_caps': False, 'is_all_lower': True, 'prefix-1': 'd', 'prefix-2': 'de', 'prefix-3': 'de', 'suffix-1': 'e', 'suffix-2': 'de', 'suffix-3': 'de', 'prev_word': '51_por_ciento', 'next_word': 'la', 'has_hyphen': False, 'is_numeric': False, 'capitals_inside': False}, {'word': 'la', 'is_first': False, 'is_last': False, 'is_capitalized': False, 'is_all_caps': False, 'is_all_lower': True, 'prefix-1': 'l', 'prefix-2': 'la', 'prefix-3': 'la', 'suffix-1': 'a', 'suffix-2': 'la', 'suffix-3': 'la', 'prev_word': 'de', 'next_word': 'empresa', 'has_hyphen': False, 'is_numeric': False, 'capitals_inside': False}, {'word': 'empresa', 'is_first': False, 'is_last': False, 'is_capitalized': False, 'is_all_caps': False, 'is_all_lower': True, 'prefix-1': 'e', 'prefix-2': 'em', 'prefix-3': 'emp', 'suffix-1': 'a', 'suffix-2': 'sa', 'suffix-3': 'esa', 'prev_word': 'la', 'next_word': 'mexicana', 'has_hyphen': False, 'is_numeric': False, 'capitals_inside': False}, {'word': 'mexicana', 'is_first': False, 'is_last': False, 'is_capitalized': False, 'is_all_caps': False, 'is_all_lower': True, 'prefix-1': 'm', 'prefix-2': 'me', 'prefix-3': 'mex', 'suffix-1': 'a', 'suffix-2': 'na', 'suffix-3': 'ana', 'prev_word': 'empresa', 'next_word': 'Electricidad_Águila_de_Altamira', 'has_hyphen': False, 'is_numeric': False, 'capitals_inside': False}, {'word': 'Electricidad_Águila_de_Altamira', 'is_first': False, 'is_last': False, 'is_capitalized': True, 'is_all_caps': False, 'is_all_lower': False, 'prefix-1': 'E', 'prefix-2': 'El', 'prefix-3': 'Ele', 'suffix-1': 'a', 'suffix-2': 'ra', 'suffix-3': 'ira', 'prev_word': 'mexicana', 'next_word': '-Fpa-', 'has_hyphen': False, 'is_numeric': False, 'capitals_inside': True}, {'word': '-Fpa-', 'is_first': False, 'is_last': False, 'is_capitalized': True, 'is_all_caps': False, 'is_all_lower': False, 'prefix-1': '-', 'prefix-2': '-F', 'prefix-3': '-Fp', 'suffix-1': '-', 'suffix-2': 'a-', 'suffix-3': 'pa-', 'prev_word': 'Electricidad_Águila_de_Altamira', 'next_word': 'EAA', 'has_hyphen': True, 'is_numeric': False, 'capitals_inside': True}, {'word': 'EAA', 'is_first': False, 'is_last': False, 'is_capitalized': True, 'is_all_caps': True, 'is_all_lower': False, 'prefix-1': 'E', 'prefix-2': 'EA', 'prefix-3': 'EAA', 'suffix-1': 'A', 'suffix-2': 'AA', 'suffix-3': 'EAA', 'prev_word': '-Fpa-', 'next_word': '-Fpt-', 'has_hyphen': False, 'is_numeric': False, 'capitals_inside': True}, {'word': '-Fpt-', 'is_first': False, 'is_last': False, 'is_capitalized': True, 'is_all_caps': False, 'is_all_lower': False, 'prefix-1': '-', 'prefix-2': '-F', 'prefix-3': '-Fp', 'suffix-1': '-', 'suffix-2': 't-', 'suffix-3': 'pt-', 'prev_word': 'EAA', 'next_word': ',', 'has_hyphen': True, 'is_numeric': False, 'capitals_inside': True}, {'word': ',', 'is_first': False, 'is_last': False, 'is_capitalized': True, 'is_all_caps': True, 'is_all_lower': True, 'prefix-1': ',', 'prefix-2': ',', 'prefix-3': ',', 'suffix-1': ',', 'suffix-2': ',', 'suffix-3': ',', 'prev_word': '-Fpt-', 'next_word': 'creada', 'has_hyphen': False, 'is_numeric': False, 'capitals_inside': False}, {'word': 'creada', 'is_first': False, 'is_last': False, 'is_capitalized': False, 'is_all_caps': False, 'is_all_lower': True, 'prefix-1': 'c', 'prefix-2': 'cr', 'prefix-3': 'cre', 'suffix-1': 'a', 'suffix-2': 'da', 'suffix-3': 'ada', 'prev_word': ',', 'next_word': 'por', 'has_hyphen': False, 'is_numeric': False, 'capitals_inside': False}, {'word': 'por', 'is_first': False, 'is_last': False, 'is_capitalized': False, 'is_all_caps': False, 'is_all_lower': True, 'prefix-1': 'p', 'prefix-2': 'po', 'prefix-3': 'por', 'suffix-1': 'r', 'suffix-2': 'or', 'suffix-3': 'por', 'prev_word': 'creada', 'next_word': 'el', 'has_hyphen': False, 'is_numeric': False, 'capitals_inside': False}, {'word': 'el', 'is_first': False, 'is_last': False, 'is_capitalized': False, 'is_all_caps': False, 'is_all_lower': True, 'prefix-1': 'e', 'prefix-2': 'el', 'prefix-3': 'el', 'suffix-1': 'l', 'suffix-2': 'el', 'suffix-3': 'el', 'prev_word': 'por', 'next_word': 'japonés', 'has_hyphen': False, 'is_numeric': False, 'capitals_inside': False}, {'word': 'japonés', 'is_first': False, 'is_last': False, 'is_capitalized': False, 'is_all_caps': False, 'is_all_lower': True, 'prefix-1': 'j', 'prefix-2': 'ja', 'prefix-3': 'jap', 'suffix-1': 's', 'suffix-2': 'és', 'suffix-3': 'nés', 'prev_word': 'el', 'next_word': 'Mitsubishi_Corporation', 'has_hyphen': False, 'is_numeric': False, 'capitals_inside': False}, {'word': 'Mitsubishi_Corporation', 'is_first': False, 'is_last': False, 'is_capitalized': True, 'is_all_caps': False, 'is_all_lower': False, 'prefix-1': 'M', 'prefix-2': 'Mi', 'prefix-3': 'Mit', 'suffix-1': 'n', 'suffix-2': 'on', 'suffix-3': 'ion', 'prev_word': 'japonés', 'next_word': 'para', 'has_hyphen': False, 'is_numeric': False, 'capitals_inside': True}, {'word': 'para', 'is_first': False, 'is_last': False, 'is_capitalized': False, 'is_all_caps': False, 'is_all_lower': True, 'prefix-1': 'p', 'prefix-2': 'pa', 'prefix-3': 'par', 'suffix-1': 'a', 'suffix-2': 'ra', 'suffix-3': 'ara', 'prev_word': 'Mitsubishi_Corporation', 'next_word': 'poner_en_marcha', 'has_hyphen': False, 'is_numeric': False, 'capitals_inside': False}, {'word': 'poner_en_marcha', 'is_first': False, 'is_last': False, 'is_capitalized': False, 'is_all_caps': False, 'is_all_lower': True, 'prefix-1': 'p', 'prefix-2': 'po', 'prefix-3': 'pon', 'suffix-1': 'a', 'suffix-2': 'ha', 'suffix-3': 'cha', 'prev_word': 'para', 'next_word': 'una', 'has_hyphen': False, 'is_numeric': False, 'capitals_inside': False}, {'word': 'una', 'is_first': False, 'is_last': False, 'is_capitalized': False, 'is_all_caps': False, 'is_all_lower': True, 'prefix-1': 'u', 'prefix-2': 'un', 'prefix-3': 'una', 'suffix-1': 'a', 'suffix-2': 'na', 'suffix-3': 'una', 'prev_word': 'poner_en_marcha', 'next_word': 'central', 'has_hyphen': False, 'is_numeric': False, 'capitals_inside': False}, {'word': 'central', 'is_first': False, 'is_last': False, 'is_capitalized': False, 'is_all_caps': False, 'is_all_lower': True, 'prefix-1': 'c', 'prefix-2': 'ce', 'prefix-3': 'cen', 'suffix-1': 'l', 'suffix-2': 'al', 'suffix-3': 'ral', 'prev_word': 'una', 'next_word': 'de', 'has_hyphen': False, 'is_numeric': False, 'capitals_inside': False}, {'word': 'de', 'is_first': False, 'is_last': False, 'is_capitalized': False, 'is_all_caps': False, 'is_all_lower': True, 'prefix-1': 'd', 'prefix-2': 'de', 'prefix-3': 'de', 'suffix-1': 'e', 'suffix-2': 'de', 'suffix-3': 'de', 'prev_word': 'central', 'next_word': 'gas', 'has_hyphen': False, 'is_numeric': False, 'capitals_inside': False}, {'word': 'gas', 'is_first': False, 'is_last': False, 'is_capitalized': False, 'is_all_caps': False, 'is_all_lower': True, 'prefix-1': 'g', 'prefix-2': 'ga', 'prefix-3': 'gas', 'suffix-1': 's', 'suffix-2': 'as', 'suffix-3': 'gas', 'prev_word': 'de', 'next_word': 'de', 'has_hyphen': False, 'is_numeric': False, 'capitals_inside': False}, {'word': 'de', 'is_first': False, 'is_last': False, 'is_capitalized': False, 'is_all_caps': False, 'is_all_lower': True, 'prefix-1': 'd', 'prefix-2': 'de', 'prefix-3': 'de', 'suffix-1': 'e', 'suffix-2': 'de', 'suffix-3': 'de', 'prev_word': 'gas', 'next_word': '495', 'has_hyphen': False, 'is_numeric': False, 'capitals_inside': False}, {'word': '495', 'is_first': False, 'is_last': False, 'is_capitalized': True, 'is_all_caps': True, 'is_all_lower': True, 'prefix-1': '4', 'prefix-2': '49', 'prefix-3': '495', 'suffix-1': '5', 'suffix-2': '95', 'suffix-3': '495', 'prev_word': 'de', 'next_word': 'megavatios', 'has_hyphen': False, 'is_numeric': True, 'capitals_inside': False}, {'word': 'megavatios', 'is_first': False, 'is_last': False, 'is_capitalized': False, 'is_all_caps': False, 'is_all_lower': True, 'prefix-1': 'm', 'prefix-2': 'me', 'prefix-3': 'meg', 'suffix-1': 's', 'suffix-2': 'os', 'suffix-3': 'ios', 'prev_word': '495', 'next_word': '.', 'has_hyphen': False, 'is_numeric': False, 'capitals_inside': False}, {'word': '.', 'is_first': False, 'is_last': True, 'is_capitalized': True, 'is_all_caps': True, 'is_all_lower': True, 'prefix-1': '.', 'prefix-2': '.', 'prefix-3': '.', 'suffix-1': '.', 'suffix-2': '.', 'suffix-3': '.', 'prev_word': 'megavatios', 'next_word': '', 'has_hyphen': False, 'is_numeric': False, 'capitals_inside': False}]\n",
      "['da0ms0', 'ncms000', 'aq0cs0', 'np00000', 'Fpa', 'np00000', 'Fpt', 'vmis3s0', 'rg', 'Fc', 'W', 'Fc', 'da0fs0', 'ncfs000', 'spcms', 'Zp', 'sps00', 'da0fs0', 'ncfs000', 'aq0fs0', 'np00000', 'Fpa', 'np00000', 'Fpt', 'Fc', 'aq0fsp', 'sps00', 'da0ms0', 'aq0ms0', 'np00000', 'sps00', 'vmn0000', 'di0fs0', 'ncfs000', 'sps00', 'ncms000', 'sps00', 'Z', 'ncmp000', 'Fp']\n"
     ]
    }
   ],
   "source": [
    "from nltk.tag.util import untag\n",
    " \n",
    "# Split the dataset for training and testing\n",
    "cutoff = int(.75 * len(tagged_sentences1))\n",
    "training_sentences = tagged_sentences1[:cutoff]\n",
    "test_sentences = tagged_sentences1[cutoff:]\n",
    " \n",
    "def transform_to_dataset(tagged_sentences1):\n",
    "    X, y = [], []\n",
    " \n",
    "    for tagged in tagged_sentences1:\n",
    "        X.append([features(untag(tagged), index) for index in range(len(tagged))])\n",
    "        y.append([tag for _, tag in tagged])\n",
    " \n",
    "    return X, y\n",
    " \n",
    "X_train, y_train = transform_to_dataset(training_sentences)\n",
    "X_test, y_test = transform_to_dataset(test_sentences)\n",
    " \n",
    "print(len(X_train))     \n",
    "print(len(X_test))         \n",
    "print(X_train[0])\n",
    "print(y_train[0])\n",
    " \n",
    "# 2935\n",
    "# 979\n",
    "# [{'word': 'Pierre' ...\n",
    "# ['NNP', 'NNP', ',', 'CD', 'NNS', 'JJ', ',', 'MD', 'VB', 'DT', 'NN', 'IN', 'DT', 'JJ', 'NN', 'NNP', 'CD', '.']\n",
    " "
   ]
  },
  {
   "cell_type": "code",
   "execution_count": 7,
   "metadata": {
    "scrolled": true
   },
   "outputs": [
    {
     "name": "stdout",
     "output_type": "stream",
     "text": [
      "Requirement already satisfied: sklearn-crfsuite in /Users/raulernestogutierrezdepinerezreyes/anaconda3/lib/python3.7/site-packages (0.3.6)\n",
      "Requirement already satisfied: tabulate in /Users/raulernestogutierrezdepinerezreyes/anaconda3/lib/python3.7/site-packages (from sklearn-crfsuite) (0.8.7)\n",
      "Requirement already satisfied: six in /Users/raulernestogutierrezdepinerezreyes/anaconda3/lib/python3.7/site-packages (from sklearn-crfsuite) (1.14.0)\n",
      "Requirement already satisfied: python-crfsuite>=0.8.3 in /Users/raulernestogutierrezdepinerezreyes/anaconda3/lib/python3.7/site-packages (from sklearn-crfsuite) (0.9.7)\n",
      "Requirement already satisfied: tqdm>=2.0 in /Users/raulernestogutierrezdepinerezreyes/anaconda3/lib/python3.7/site-packages (from sklearn-crfsuite) (4.42.1)\n",
      "Note: you may need to restart the kernel to use updated packages.\n"
     ]
    }
   ],
   "source": [
    "pip install sklearn-crfsuite"
   ]
  },
  {
   "cell_type": "code",
   "execution_count": 9,
   "metadata": {},
   "outputs": [
    {
     "ename": "ModuleNotFoundError",
     "evalue": "No module named 'tensorflow'",
     "output_type": "error",
     "traceback": [
      "\u001b[0;31m---------------------------------------------------------------------------\u001b[0m",
      "\u001b[0;31mModuleNotFoundError\u001b[0m                       Traceback (most recent call last)",
      "\u001b[0;32m<ipython-input-9-e3a975765315>\u001b[0m in \u001b[0;36m<module>\u001b[0;34m\u001b[0m\n\u001b[1;32m      1\u001b[0m \u001b[0;31m## Funcion que permite forzar el uso de GPU cuando estan presentes\u001b[0m\u001b[0;34m\u001b[0m\u001b[0;34m\u001b[0m\u001b[0;34m\u001b[0m\u001b[0m\n\u001b[1;32m      2\u001b[0m \u001b[0;34m\u001b[0m\u001b[0m\n\u001b[0;32m----> 3\u001b[0;31m \u001b[0;32mimport\u001b[0m \u001b[0mtensorflow\u001b[0m \u001b[0;32mas\u001b[0m \u001b[0mtf\u001b[0m\u001b[0;34m\u001b[0m\u001b[0;34m\u001b[0m\u001b[0m\n\u001b[0m\u001b[1;32m      4\u001b[0m \u001b[0msess\u001b[0m \u001b[0;34m=\u001b[0m \u001b[0mtf\u001b[0m\u001b[0;34m.\u001b[0m\u001b[0mcompat\u001b[0m\u001b[0;34m.\u001b[0m\u001b[0mv1\u001b[0m\u001b[0;34m.\u001b[0m\u001b[0mSession\u001b[0m\u001b[0;34m(\u001b[0m\u001b[0mconfig\u001b[0m\u001b[0;34m=\u001b[0m\u001b[0mtf\u001b[0m\u001b[0;34m.\u001b[0m\u001b[0mcompat\u001b[0m\u001b[0;34m.\u001b[0m\u001b[0mv1\u001b[0m\u001b[0;34m.\u001b[0m\u001b[0mConfigProto\u001b[0m\u001b[0;34m(\u001b[0m\u001b[0mlog_device_placement\u001b[0m\u001b[0;34m=\u001b[0m\u001b[0;32mTrue\u001b[0m\u001b[0;34m)\u001b[0m\u001b[0;34m)\u001b[0m\u001b[0;34m\u001b[0m\u001b[0;34m\u001b[0m\u001b[0m\n",
      "\u001b[0;31mModuleNotFoundError\u001b[0m: No module named 'tensorflow'"
     ]
    }
   ],
   "source": [
    "## Funcion que permite forzar el uso de GPU cuando estan presentes\n",
    "\n",
    "import tensorflow as tf\n",
    "sess = tf.compat.v1.Session(config=tf.compat.v1.ConfigProto(log_device_placement=True))"
   ]
  },
  {
   "cell_type": "code",
   "execution_count": 8,
   "metadata": {},
   "outputs": [
    {
     "name": "stderr",
     "output_type": "stream",
     "text": [
      "/Users/raulernestogutierrezdepinerezreyes/anaconda3/lib/python3.7/site-packages/sklearn/base.py:197: FutureWarning: From version 0.24, get_params will raise an AttributeError if a parameter cannot be retrieved as an instance attribute. Previously it would return None.\n",
      "  FutureWarning)\n"
     ]
    },
    {
     "data": {
      "text/plain": [
       "CRF(algorithm=None, all_possible_states=None, all_possible_transitions=None,\n",
       "    averaging=None, c=None, c1=None, c2=None, calibration_candidates=None,\n",
       "    calibration_eta=None, calibration_max_trials=None, calibration_rate=None,\n",
       "    calibration_samples=None, delta=None, epsilon=None, error_sensitive=None,\n",
       "    gamma=None, keep_tempfiles=None, linesearch=None, max_iterations=None,\n",
       "    max_linesearch=None, min_freq=None, model_filename=None, num_memories=None,\n",
       "    pa_type=None, period=None, trainer_cls=None, variance=None, verbose=False)"
      ]
     },
     "execution_count": 8,
     "metadata": {},
     "output_type": "execute_result"
    }
   ],
   "source": [
    "from sklearn_crfsuite import CRF\n",
    "model = CRF()\n",
    "model.fit(X_train, y_train)"
   ]
  },
  {
   "cell_type": "code",
   "execution_count": 11,
   "metadata": {},
   "outputs": [
    {
     "name": "stdout",
     "output_type": "stream",
     "text": [
      "[('el', 'da0ms0'), ('hombre', 'ncms000'), ('bajo', 'sps00'), ('canta', 'ncfs000'), ('bajo', 'sps00'), ('el', 'da0ms0'), ('puente', 'ncms000'), ('rojo', 'aq0ms0'), ('en', 'sps00'), ('Sao', 'np0000l'), ('Paulo', 'np0000l'), ('en', 'sps00'), ('la', 'da0fs0'), ('escalera', 'ncfs000'), ('baja', 'aq0fs0')]\n"
     ]
    }
   ],
   "source": [
    "sentence = ['el', 'hombre', 'bajo','canta', 'bajo', 'el', 'puente', 'rojo','en','Sao','Paulo','en','la','escalera', 'baja']\n",
    "def pos_tag(sentence):\n",
    "    sentence_features = [features(sentence, index) for index in range(len(sentence))]\n",
    "    return list(zip(sentence, model.predict([sentence_features])[0]))\n",
    " \n",
    "print(pos_tag(sentence))  # [('I', 'PRP'), ('am', 'VBP'), ('Bob', 'NNP'), ('!', '.')]"
   ]
  },
  {
   "cell_type": "code",
   "execution_count": 12,
   "metadata": {},
   "outputs": [
    {
     "name": "stdout",
     "output_type": "stream",
     "text": [
      "0.9286018168622838\n"
     ]
    }
   ],
   "source": [
    "from sklearn_crfsuite import metrics\n",
    " \n",
    "y_pred = model.predict(X_test)\n",
    "print(metrics.flat_accuracy_score(y_test, y_pred))\n",
    " \n",
    "# 0.9602683593122289"
   ]
  },
  {
   "cell_type": "code",
   "execution_count": 16,
   "metadata": {
    "scrolled": false
   },
   "outputs": [
    {
     "name": "stdout",
     "output_type": "stream",
     "text": [
      "['cs', 'da0fs0', 'ncfs000', 'vaii3s0', 'vsp00sm', 'aq0cs0', 'Fc', 'da0ms0', 'ncms000', 'vmii3s0', 'ncms000', 'sps00', 'vmn0000', 'dp3cs0', 'di0fs0', 'ncfs000', 'Fc', 'pr0cn000', 'rg', 'vmii3s0', 'vmn0000', 'vmg0000', 'da0ms0', 'ncms000', 'sps00', 'da0fs0', 'ncfs000', 'sps00', 'cs', 'sn.e-SUJ', 'p0000000', 'vmsi3s0', 'sps00', 'aq0cs0', 'ncfs000', 'Fp']\n",
      "&&&&&&&&&&&&&&&&&&&&&&&&&&&&&&&&&&&COMPARAMOS\n",
      "['cs', 'da0fs0', 'ncfs000', 'vaii3s0', 'vsp00sm', 'aq0cs0', 'Fc', 'da0ms0', 'ncms000', 'vmii3s0', 'ncms000', 'sps00', 'vmn0000', 'dp3cs0', 'di0fs0', 'ncfs000', 'Fc', 'pr0cn000', 'rg', 'vmii3s0', 'vmn0000', 'vmg0000', 'da0ms0', 'ncms000', 'sps00', 'da0fs0', 'ncfs000', 'sps00', 'cs', 'sn.e-SUJ', 'p0300000', 'vmsi3s0', 'sps00', 'aq0cs0', 'ncfs000', 'Fp']\n",
      "['ncfp000', 'rg', 'aq0fp0', 'cc', 'rg', 'aq0cp0', 'sps00', 'da0fs0', 'ncfs000', 'sps00', 'vmn0000', 'da0ms0', 'ncms000', 'Fp']\n",
      "&&&&&&&&&&&&&&&&&&&&&&&&&&&&&&&&&&&COMPARAMOS\n",
      "['np0000p', 'rg', 'ncfp000', 'cc', 'rg', 'aq0cp0', 'sps00', 'da0fs0', 'ncfs000', 'sps00', 'vmn0000', 'da0ms0', 'ncms000', 'Fp']\n"
     ]
    }
   ],
   "source": [
    "\n",
    "i=0\n",
    "while i<= 1:\n",
    "    print(y_test[i])\n",
    "    print('&&&&&&&&&&&&&&&&&&&&&&&&&&&&&&&&&&&COMPARAMOS')\n",
    "    print(y_pred[i])\n",
    "    i+=1\n",
    "    "
   ]
  },
  {
   "cell_type": "code",
   "execution_count": null,
   "metadata": {},
   "outputs": [],
   "source": []
  }
 ],
 "metadata": {
  "kernelspec": {
   "display_name": "Python 3",
   "language": "python",
   "name": "python3"
  },
  "language_info": {
   "codemirror_mode": {
    "name": "ipython",
    "version": 3
   },
   "file_extension": ".py",
   "mimetype": "text/x-python",
   "name": "python",
   "nbconvert_exporter": "python",
   "pygments_lexer": "ipython3",
   "version": "3.7.5"
  }
 },
 "nbformat": 4,
 "nbformat_minor": 4
}
